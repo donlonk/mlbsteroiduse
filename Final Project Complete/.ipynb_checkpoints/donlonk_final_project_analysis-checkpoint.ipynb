{
 "cells": [
  {
   "cell_type": "markdown",
   "id": "7e25f154-0b11-4388-900a-3eade9bee984",
   "metadata": {},
   "source": [
    "# Hitting Data Analysis"
   ]
  },
  {
   "cell_type": "markdown",
   "id": "e1b4093f-67b9-4324-96f7-3c18a5f8f701",
   "metadata": {},
   "source": [
    "## During the steroid era, were there a significant number of players using steroids? Is it possible to tell how many were?"
   ]
  },
  {
   "cell_type": "markdown",
   "id": "ceef86f1-d7b2-4979-855a-21a29d45d606",
   "metadata": {},
   "source": [
    "### final_project_cleaned"
   ]
  },
  {
   "cell_type": "markdown",
   "id": "166c17cf-4a2d-48dc-bd5f-82626b3305b8",
   "metadata": {},
   "source": [
    "In this notebook, the original data set is cleaned up to remove any NaN values and also any players who do not hit. There are a significant number of pitchers in the league who never hit that will mess with the rest of the hitter data, so they are removed. This also accounts for any players who may have gotten injured during the season who would also mess with the data."
   ]
  },
  {
   "cell_type": "markdown",
   "id": "e4acb885-66bc-47e4-9199-349927aa7b2e",
   "metadata": {},
   "source": [
    "There is some feature engineering that needs to happen as well because the statistics in the original dataset are not enough to notice any significant improvements in a players performance. All the original data tells us is the number of of base hits and home runs a player got. But to see how effective they were as a player, some other stats are needed. \n",
    "\n",
    "The following stats are added:\n",
    "\n",
    "Batting Average (BA)\n",
    "\n",
    "Slugger Percentage (SLG)\n",
    "\n",
    "On-base Percentage (OBP)\n",
    "\n",
    "On-base Plus Slugging (OPS)\n",
    "\n",
    "Number of home runs from previous year (HR_prior)\n",
    "\n",
    "HR percent increase (HR_increase)\n",
    "\n",
    "BA percent increase (BA_increase)\n",
    "\n",
    "SLG percent increase (SLG_increase)\n",
    "\n",
    "OPS percent increase (OPS_increase)\n",
    "\n",
    "With these statistics we can get a better feel for how effective a hitter was by taking into account all of a players base hits, walks, and hit by pitches.\n",
    "\n"
   ]
  },
  {
   "cell_type": "markdown",
   "id": "ba5c00a6-3e8d-48dd-a555-f0826af02b3f",
   "metadata": {},
   "source": [
    "### final_project_all_years"
   ]
  },
  {
   "cell_type": "markdown",
   "id": "193bb340-3622-4e67-83d3-d717aaf050b9",
   "metadata": {},
   "source": [
    "This is a short notebook that displays all of the data from 1984 to 2014, this includes the pre-steroid era, during the steroid-era, and after the steroid era."
   ]
  },
  {
   "cell_type": "markdown",
   "id": "d4759cc6-5a1b-4ff2-867b-c85dbc61c1b1",
   "metadata": {},
   "source": [
    "It is obvious by the histogram that there was a sudden and significant jump in players who hit 40 or more home runs in a single season in the year 1996, and it tapers off back to a more normal level by 2007, just a few years after the steroid era, this is when players started getting caught or aditting to steroid use."
   ]
  },
  {
   "cell_type": "markdown",
   "id": "44df2de9-8202-4e72-a153-101c976ebb91",
   "metadata": {},
   "source": [
    "### KMeans explanation"
   ]
  },
  {
   "cell_type": "markdown",
   "id": "2dc1eef0-79ac-4ff3-a687-0943b812aa95",
   "metadata": {},
   "source": [
    "When KMeans is run on each of the scatter plots, it does a good job of grouping the above average players. There was not a good definitive number of clusters to use base on the Elbow graph, so I selected 5 to represent; below average, slightly below average, average, slightly above average, and above average hitters. This makes small groups and can distinguish between the slightly above average hitters and the above average hitters best."
   ]
  },
  {
   "cell_type": "markdown",
   "id": "f20fbd20-beed-4135-b1cb-3a7a7549229f",
   "metadata": {},
   "source": [
    "### final_project_before"
   ]
  },
  {
   "cell_type": "markdown",
   "id": "13140708-1158-4529-bb92-39027dc7f7e7",
   "metadata": {},
   "source": [
    "This is the years 1984 to 1993, it is obvious by the histogram that there were not many players hitting over 40 home runs in a year, this could be because technology and coaching was not were it is at in the upcoming years, or it could indicate that players were just performing how they normally would before steroids were really introduced to baseball."
   ]
  },
  {
   "cell_type": "markdown",
   "id": "3a33bfa3-804f-4bd4-afb0-d0aaf57906e1",
   "metadata": {},
   "source": [
    "### final_project_during"
   ]
  },
  {
   "cell_type": "markdown",
   "id": "8304ddff-8f5e-42a2-90b4-4a27bc694bd9",
   "metadata": {},
   "source": [
    "This is the years 1994 to 2004, by looking at the histogram there is a huge jump in the number of hitters hitting over 40 home runs in a years, there is a jump from just 2 players all the way up to 12, and it stays like this for almost every year, with the smallest amount of players hitting over 40 home runs in a year coming in at 5 hitters, which is still more than any year prior to the steroid-era."
   ]
  },
  {
   "cell_type": "markdown",
   "id": "b9a2e236-98e3-4485-952b-186e54ae742b",
   "metadata": {},
   "source": [
    "### final_project_after"
   ]
  },
  {
   "cell_type": "markdown",
   "id": "d85da47a-47e2-4783-b555-9d986eee87e5",
   "metadata": {},
   "source": [
    "This is the years 1994 to 2004, by looking at the histogram there is a drop in the number of players who hit over 40 home runs in a year, basically back down to normal levels, slightly higher than the pre-steroid era. There were most likely players continueing to use steroids, as there are in the game today as well."
   ]
  },
  {
   "cell_type": "markdown",
   "id": "d20f573e-2fc9-49da-944c-2edc44579fe6",
   "metadata": {},
   "source": [
    "### Model Selection"
   ]
  },
  {
   "cell_type": "markdown",
   "id": "12021deb-f555-40dc-a347-936040c31dff",
   "metadata": {},
   "source": [
    "The best model that gave a good idea of the increase in steroid use is the PCA model. PCA looks at more than just 2 features at a time, it looks for variance in all of the features and applies them to create less noise in the graph and provides much better clusterings of players."
   ]
  },
  {
   "cell_type": "markdown",
   "id": "3d3ac6d3-b79c-4eef-bcf8-f435ee31b843",
   "metadata": {},
   "source": [
    "Before the steroid era, there were a total of 1598 hitters over 10 years, of these 1598 players, 19.96% of them were playing at an above average level. This makes sense, there were still plenty of great players that were performing significantly better than others."
   ]
  },
  {
   "cell_type": "markdown",
   "id": "a8260937-e9b8-43dc-9345-e764424c4f6c",
   "metadata": {},
   "source": [
    "When we move to the steroid era, there are a total of 2154 hitters, of these 2154 hitters, only 13.14% of them were playing at an above average level. That is a 7 percent drop in players performing above average. At first this did not make sense to me, I expected the number to go up. But if there are more players playing at an above average level, that will bring the averages of every statistic up, causing more players who were on the verge of performing above average, to be not grouped in there anymore. This will drop the percentage of players performing above average. "
   ]
  },
  {
   "cell_type": "markdown",
   "id": "66591456-80f9-409b-bf60-553eb8f5850f",
   "metadata": {},
   "source": [
    "After the steroid era, there are a total of 2017 hitters, of these 2017 hitters, 15.96% of them were performing at an above average level. It makes sense that this percentage rises because as the average of each statistic comes down, more players will be considered above average. "
   ]
  },
  {
   "cell_type": "markdown",
   "id": "14ef8b80-bd29-4ead-a408-335ff5ae9a27",
   "metadata": {},
   "source": [
    "### Final Analysis"
   ]
  },
  {
   "cell_type": "markdown",
   "id": "56b25d54-e269-4b02-bc9b-8614fb6da668",
   "metadata": {},
   "source": [
    "Based on the KMeans clustering using PCA, it is a safe assumption to say that there were a good amount of players using steroids between 1994 and 2004 that did not get caught. In 2005, there were 111 players who were suspended for using performance enhancing drugs, not all of them steroids, there is a wide range of drug use that was anything from amphetamines to muscle building supplements being used. Of these 111 players, 52 percent of them were pitchers. This accounts for about 58 players out of 111, leaving 53 hitters who were suspended for using steroids. If we take the 7 percent increase in players performing above average during the steroid era, out of the 2154 players, that is about 151 players total who could have been using performance enhancing drugs. If only 53 hitters were suspended, and give or take another 10 who later admitted to using, that leaves 88 players that had a significant performance jump during the steroid era. This is not saying all of these players were using steroids, but it could be a valid assumption that there were that many more using steroids.\n",
    "\n",
    "So to answer the initial question:\n",
    "\n",
    "During the steroid era, were there a significant number of players using steroids? Is it possible to tell how many were?\n",
    "\n",
    "It is impossible to really know, and it is not fair to accuse any players of using steroids. But it is hard to ignore that there was potentially 7 percent of the league using them, but like I said before, this was a time when technology was also taking off, bats were getting better, training programs were getting better, and players were getting strong. So these players who account for the increase that weren't using steroids could easily be explained. But I don't think it is a coincidence that there were that many more players performing extremely well. Even if a quarter of those 88 players that had a performance jump were using steroids, that is still 22 more players than were suspended, which I would consider significant, it is almost 50 percent of the number of players suspended.\n",
    "\n",
    "My final answer is, yes, there were a significant number of players using steroids, and yes it is possible to tell how many more there were. \n"
   ]
  },
  {
   "cell_type": "code",
   "execution_count": null,
   "id": "81efe5c8-3dbe-4a5e-be31-d85764419a95",
   "metadata": {},
   "outputs": [],
   "source": []
  }
 ],
 "metadata": {
  "kernelspec": {
   "display_name": "Python 3 (ipykernel)",
   "language": "python",
   "name": "python3"
  },
  "language_info": {
   "codemirror_mode": {
    "name": "ipython",
    "version": 3
   },
   "file_extension": ".py",
   "mimetype": "text/x-python",
   "name": "python",
   "nbconvert_exporter": "python",
   "pygments_lexer": "ipython3",
   "version": "3.11.7"
  }
 },
 "nbformat": 4,
 "nbformat_minor": 5
}
